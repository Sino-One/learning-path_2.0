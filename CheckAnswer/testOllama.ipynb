{
 "cells": [
  {
   "cell_type": "code",
   "execution_count": 3,
   "metadata": {},
   "outputs": [
    {
     "name": "stdout",
     "output_type": "stream",
     "text": [
      "{\"model\":\"gemma:2b\",\"created_at\":\"2024-11-13T09:38:24.7263238Z\",\"response\":\"La photosynthèse est le processus par lequel les plantes et lesinhardinhard utilisent la lumière du soleil pour convertir le carbone du dioxyde de carbone et l'eau en glucose et l'oxygène.\",\"done\":true,\"done_reason\":\"stop\",\"context\":[968,2997,235298,559,235298,15508,235313,1645,108,18405,5844,2360,45277,98911,1008,66004,1305,683,2872,80115,865,2510,235303,644,2906,907,683,5831,1686,87695,1654,107,235248,108,235322,2997,235298,559,235298,15508,235313,2516,108,2841,5831,1686,87695,1455,709,46288,755,46078,1437,69236,1008,1437,182646,182646,155032,683,45777,1344,40537,1982,49345,709,105280,1344,13510,4032,495,581,105280,1008,533,235303,7455,659,30859,1008,533,235303,21679,174676,235265],\"total_duration\":5622170600,\"load_duration\":70603700,\"prompt_eval_count\":44,\"prompt_eval_duration\":134000000,\"eval_count\":43,\"eval_duration\":5416000000}\n",
      "ideal_response.strip() :  La photosynthèse est le processus par lequel les plantes et lesinhardinhard utilisent la lumière du soleil pour convertir le carbone du dioxyde de carbone et l'eau en glucose et l'oxygène.\n",
      "Texte corrigé :  C'est le même processus que les panneaux solaires.\n",
      "Score de pertinence : 0.49986959\n",
      "Score de clarté : 0.5\n",
      "Score global : 0.4999347925186157\n"
     ]
    }
   ],
   "source": [
    "import requests\n",
    "from sentence_transformers import SentenceTransformer\n",
    "from sklearn.metrics.pairwise import cosine_similarity\n",
    "import language_tool_python\n",
    "\n",
    "# Configuration de l'API Ollama\n",
    "OLLAMA_API_URL = \"http://localhost:11434/api/generate\"  # Assurez-vous que l'API Ollama est lancée\n",
    "\n",
    "# Initialiser le modèle d'embedding\n",
    "embedding_model = SentenceTransformer('paraphrase-MiniLM-L6-v2')\n",
    "\n",
    "def generate_ideal_response(question):\n",
    "    \"\"\"Utilise l'API Ollama pour générer une réponse idéale pour la question donnée.\"\"\"\n",
    "    prompt = f\"Fournis une réponse claire et concise à la question suivante : {question}\"\n",
    "    \n",
    "    response = requests.post(\n",
    "        OLLAMA_API_URL,\n",
    "        json={\"prompt\": prompt, \"model\": \"gemma:2b\", \"stream\": False}  # Remplacez 'your_model_name' par le nom de modèle Ollama\n",
    "    )\n",
    "    print(response.text)\n",
    "    \n",
    "    if response.status_code == 200:\n",
    "        data = response.json()\n",
    "        ideal_response = data.get('response', \"\")\n",
    "        print(\"ideal_response.strip() : \", ideal_response.strip())\n",
    "        return ideal_response.strip()\n",
    "    else:\n",
    "        print(\"Erreur dans la génération de réponse par Ollama :\", response.text)\n",
    "        return None\n",
    "\n",
    "def calculate_similarity(response_ideal, response_user):\n",
    "    \"\"\"Calcule la similarité cosinus entre la réponse idéale et la réponse utilisateur.\"\"\"\n",
    "    # Obtenir les embeddings\n",
    "    embeddings_ideal = embedding_model.encode([response_ideal])\n",
    "    embeddings_user = embedding_model.encode([response_user])\n",
    "    \n",
    "    # Calculer la similarité cosinus\n",
    "    similarity_score = cosine_similarity(embeddings_ideal, embeddings_user)[0][0]\n",
    "    return similarity_score\n",
    "\n",
    "def evaluate_clarity(response_user):\n",
    "    \"\"\"Évalue la clarté à l'aide d'une analyse linguistique en français.\"\"\"\n",
    "    # Crée une instance de LanguageTool pour le français\n",
    "    tool = language_tool_python.LanguageTool('fr')\n",
    "    \n",
    "    # Vérifie les erreurs dans le texte\n",
    "    matches = tool.check(response_user)\n",
    "    \n",
    "    # Si aucune erreur n'est détectée, la correction sera identique au texte original\n",
    "    corrected_text = language_tool_python.utils.correct(response_user, matches)\n",
    "    \n",
    "    print(\"Texte corrigé : \", corrected_text)\n",
    "    \n",
    "    # Score de clarté basé sur la correction grammaticale et la lisibilité\n",
    "    return 1 if corrected_text == response_user else 0.5  # Score basique pour clarté\n",
    "\n",
    "# Question pour laquelle on veut une réponse idéale\n",
    "question = \"Qu'est ce que la photosynthèse ?\"\n",
    "response_user = \"C'est le meme processus que les panneaux solaires.\"\n",
    "# response_user = \"La photosynthèse permet de transformer la lumière, le soleil en énergie pour les plantes.\"\n",
    "# response_user = \"Processus par lequel les plantes vertes synthétisent des matières organiques grâce à l'énergie lumineuse, en absorbant le gaz carbonique de l'air et en rejetant l'oxygène.\"\n",
    "\n",
    "# 1. Générer la réponse idéale\n",
    "response_ideal = generate_ideal_response(question)\n",
    "\n",
    "# 2. Évaluer les métriques\n",
    "if response_ideal:\n",
    "    relevance_score = calculate_similarity(response_ideal, response_user)\n",
    "    clarity_score = evaluate_clarity(response_user)\n",
    "    \n",
    "    print(\"Score de pertinence :\", relevance_score)\n",
    "    print(\"Score de clarté :\", clarity_score)\n",
    "\n",
    "    # Score global moyen\n",
    "    overall_score = (relevance_score  + clarity_score ) / 2\n",
    "    print(\"Score global :\", overall_score)\n",
    "else:\n",
    "    print(\"Impossible de générer une réponse idéale.\")\n"
   ]
  },
  {
   "cell_type": "code",
   "execution_count": 23,
   "metadata": {},
   "outputs": [
    {
     "name": "stdout",
     "output_type": "stream",
     "text": [
      "Defaulting to user installation because normal site-packages is not writeable\n",
      "Requirement already satisfied: setuptools in c:\\users\\maynaud.sinwan.desktop-40o2pjv\\appdata\\local\\packages\\pythonsoftwarefoundation.python.3.12_qbz5n2kfra8p0\\localcache\\local-packages\\python312\\site-packages (75.4.0)\n"
     ]
    }
   ],
   "source": [
    "!pip install --upgrade setuptools\n"
   ]
  },
  {
   "cell_type": "code",
   "execution_count": null,
   "metadata": {},
   "outputs": [],
   "source": []
  }
 ],
 "metadata": {
  "kernelspec": {
   "display_name": "Python 3",
   "language": "python",
   "name": "python3"
  },
  "language_info": {
   "codemirror_mode": {
    "name": "ipython",
    "version": 3
   },
   "file_extension": ".py",
   "mimetype": "text/x-python",
   "name": "python",
   "nbconvert_exporter": "python",
   "pygments_lexer": "ipython3",
   "version": "3.12.7"
  }
 },
 "nbformat": 4,
 "nbformat_minor": 2
}
